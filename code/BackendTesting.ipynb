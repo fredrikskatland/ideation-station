{
 "cells": [
  {
   "cell_type": "code",
   "execution_count": 29,
   "metadata": {},
   "outputs": [],
   "source": [
    "from operator import itemgetter\n",
    "\n",
    "from langchain_core.output_parsers import StrOutputParser, JsonOutputParser\n",
    "from langchain_core.prompts import ChatPromptTemplate, PromptTemplate\n",
    "from langchain_openai import ChatOpenAI\n",
    "from langchain_core.runnables import RunnablePassthrough\n",
    "from langchain_anthropic import ChatAnthropic\n",
    "from langchain_core.pydantic_v1 import BaseModel, Field\n",
    "\n",
    "from rich.console import Console\n",
    "from rich.markdown import Markdown\n",
    "\n",
    "console = Console()\n",
    "\n",
    "\n",
    "class BusinessConcept(BaseModel):\n",
    "    headline: str = Field(description=\"Business or product concept headline\")\n",
    "    description: str = Field(description=\"Brief description of the concept\")\n",
    "    target_audience: str = Field(description=\"Target audience for the concept\")\n",
    "    pricing: str = Field(description=\"How to price the business or product\")\n",
    "    marketing: str = Field(description=\"How to market the business or product\")\n",
    "    stand_out: str = Field(description=\"How to make the business or product stand out from competitors\")\n",
    "    dos: str = Field(description=\"List of dos for the concept\")\n",
    "    donts: str = Field(description=\"List of don'ts for the concept\")\n",
    "\n",
    "class BusinessPlan(BaseModel):\n",
    "    milestone_plan: str = Field(description=\"Milestone plan for the business or product\")\n",
    "    gant_chart: str = Field(description=\"Gant chart for the business or product\")\n",
    "    raid_chart: str = Field(description=\"Raid chart for the business or product\")\n",
    "    task_table: str = Field(description=\"Task table for the business or product\")\n",
    "    \n",
    "\n",
    "gpt4 = ChatOpenAI(model=\"gpt-4o\")\n",
    "claud3 = ChatAnthropic(model='claude-3-opus-20240229')\n",
    "\n",
    "first_prompt = ChatPromptTemplate.from_template(\n",
    "    \"Develop a business or product concept and around the following topic: {topic}. List dos and don'ts for the concept. Include a brief description of the concept and the target audience, how to price and market the business or product, and how to make it stand out from competitors. The output should be markdown.\"\n",
    ")\n",
    "second_prompt = ChatPromptTemplate.from_template(\n",
    "    \"Create a milestone plan, a gant chart, a raid chart and a task table. based on the following markdown document: {markdown} \"\n",
    ")\n",
    "\n",
    "concept_parser = JsonOutputParser(pydantic_object=BusinessConcept)\n",
    "plan_parser = JsonOutputParser(pydantic_object=BusinessPlan)\n",
    "\n",
    "concept_prompt = PromptTemplate(\n",
    "    #template=\"Answer the user query.\\n{format_instructions}\\n{query}\\n\",\n",
    "    template=\"Develop a business or product concept and around the following topic: {topic}. List dos and don'ts for the concept. Include a brief description of the concept and the target audience, how to price and market the business or product, and how to make it stand out from competitors. \\n{format_instructions}. \\nInside the json the output should be markdown.\",\n",
    "    input_variables=[\"topic\"],\n",
    "    partial_variables={\"format_instructions\": concept_parser.get_format_instructions()},\n",
    ")\n",
    "\n",
    "plan_prompt = PromptTemplate(\n",
    "    #template=\"Answer the user query.\\n{format_instructions}\\n{query}\\n\",\n",
    "    template=\"Create a milestone plan, a gant chart, a raid chart and a task table. based on the following json/markdown document: {markdown} \\n{format_instructions}. \\nInside the json the output should be markdown, without any ```markdown annotations.\",\n",
    "    input_variables=[\"markdown\"],\n",
    "    partial_variables={\"format_instructions\": plan_parser.get_format_instructions()},\n",
    ")\n",
    "\n",
    "#first_chain =  first_prompt | gpt4 | StrOutputParser()\n",
    "first_chain =  concept_prompt | gpt4 | concept_parser\n",
    "\n",
    "#second_chain = second_prompt | gpt4 | StrOutputParser()\n",
    "second_chain = plan_prompt | gpt4 | plan_parser\n",
    "\n",
    "complete_chain = ({\n",
    "    \"topic\": itemgetter(\"topic\"),\n",
    "    \"markdown\": first_chain\n",
    "    }\n",
    "    | RunnablePassthrough.assign(plans=second_chain)\n",
    "    | RunnablePassthrough.assign(markdown=first_chain)\n",
    ")"
   ]
  },
  {
   "cell_type": "code",
   "execution_count": 31,
   "metadata": {},
   "outputs": [
    {
     "ename": "OutputParserException",
     "evalue": "Invalid json output: Here is the output formatted as a JSON instance that conforms to the provided schema:\n\n{\n  \"milestone_plan\": \"Milestone 1: Planning (2 months)\\n- Develop detailed tour routes and educational content\\n- Hire and train guides\\n- Secure bikes, helmets, and other gear\\n- Establish partnerships with local organizations\\n- Finalize pricing and booking system\\n\\nMilestone 2: Launch (1 month)\\n- Conduct initial marketing push\\n- Run first tours and gather feedback\\n- Refine tour format and content based on feedback\\n- Expand marketing efforts\\n\\nMilestone 3: Growth (6 months)\\n- Continue running and refining tours\\n- Expand to new cities/regions\\n- Develop additional tour formats (e.g., weekend trips)\\n- Pursue larger partnerships and sponsorships\\n\\nMilestone 4: Expansion (1 year+)\\n- Franchise model or expansion to international markets\\n- Develop online cyber security courses\\n- Expand product line (e.g., CyberCycle branded gear)\\n- Continual improvement of tours and educational content\",\n\n  \"gant_chart\": \"| Task | Month 1 | Month 2 | Month 3 | Month 4 | Month 5 | Month 6 |\\n|------|---------|---------|---------|---------|---------|---------|----------|\\n| Route planning | ✓ | ✓ |  |  |  |  |\\n| Content development | ✓ | ✓ |  |  |  |  |\\n| Guide hiring and training |  | ✓ | ✓ |  |  |  |\\n| Equipment procurement | ✓ | ✓ |  |  |  |  |\\n| Partnership establishment | ✓ | ✓ |  |  |  |  |\\n| Pricing and booking setup |  | ✓ |  |  |  |  |\\n| Initial marketing push |  |  | ✓ |  |  |  |\\n| Tour launch |  |  | ✓ |  |  |  |\\n| Feedback and refinement |  |  | ✓ | ✓ | ✓ | ✓ |\\n| Expansion to new markets |  |  |  |  | ✓ | ✓ |\",\n\n  \"raid_chart\": \"Risks:\\n- Injury or accidents during tours\\n- Guides not effectively conveying cyber security concepts\\n- Low initial demand or difficulty filling tours\\n- Partnerships not providing sufficient marketing boost\\n- Unexpected costs or cash flow issues\\n\\nAssumptions:\\n- Demand exists for combining cycling and cyber security education\\n- Guides can be trained to effectively teach and lead tours\\n- Partnerships will help drive initial demand\\n- Tour format and content will resonate with target audience\\n- No major economic or market disruptions\\n\\nIssues:\\n- Identifying and securing suitable tour routes\\n- Developing engaging and actionable educational content\\n- Finding guides with the right mix of skills and personality\\n- Balancing tour costs with pricing and profitability\\n- Ensuring consistent quality across all tours and guides\\n\\nDecisions:\\n- Specific cities/regions to launch in\\n- Pricing structure and group discount levels\\n- Types of bikes and gear to invest in\\n- Marketing channels and partnership opportunities to pursue\\n- Criteria for guide hiring and training program\",\n\n  \"task_table\": \"| Task | Owner | Due Date | Status |\\n|------|-------|----------|--------|\\n| Develop tour routes | Operations | June 1 | Not Started |\\n| Create educational content | Marketing | June 15 | Not Started |\\n| Hire guides | HR | July 1 | Not Started |\\n| Train guides | Operations | July 15 | Not Started |\\n| Procure bikes and gear | Operations | June 15 | Not Started |\\n| Establish local partnerships | Business Development | June 15 | Not Started |\\n| Set up booking system | IT | July 1 | Not Started |\\n| Launch marketing campaign | Marketing | August 1 | Not Started |\\n| Run initial tours | Operations | August 15 | Not Started |\\n|",
     "output_type": "error",
     "traceback": [
      "\u001b[1;31m---------------------------------------------------------------------------\u001b[0m",
      "\u001b[1;31mJSONDecodeError\u001b[0m                           Traceback (most recent call last)",
      "File \u001b[1;32mc:\\Users\\fredr\\AI\\ideation-station\\.venv\\lib\\site-packages\\langchain_core\\output_parsers\\json.py:66\u001b[0m, in \u001b[0;36mJsonOutputParser.parse_result\u001b[1;34m(self, result, partial)\u001b[0m\n\u001b[0;32m     65\u001b[0m \u001b[38;5;28;01mtry\u001b[39;00m:\n\u001b[1;32m---> 66\u001b[0m     \u001b[38;5;28;01mreturn\u001b[39;00m \u001b[43mparse_json_markdown\u001b[49m\u001b[43m(\u001b[49m\u001b[43mtext\u001b[49m\u001b[43m)\u001b[49m\n\u001b[0;32m     67\u001b[0m \u001b[38;5;28;01mexcept\u001b[39;00m JSONDecodeError \u001b[38;5;28;01mas\u001b[39;00m e:\n",
      "File \u001b[1;32mc:\\Users\\fredr\\AI\\ideation-station\\.venv\\lib\\site-packages\\langchain_core\\utils\\json.py:147\u001b[0m, in \u001b[0;36mparse_json_markdown\u001b[1;34m(json_string, parser)\u001b[0m\n\u001b[0;32m    146\u001b[0m         json_str \u001b[38;5;241m=\u001b[39m match\u001b[38;5;241m.\u001b[39mgroup(\u001b[38;5;241m2\u001b[39m)\n\u001b[1;32m--> 147\u001b[0m \u001b[38;5;28;01mreturn\u001b[39;00m \u001b[43m_parse_json\u001b[49m\u001b[43m(\u001b[49m\u001b[43mjson_str\u001b[49m\u001b[43m,\u001b[49m\u001b[43m \u001b[49m\u001b[43mparser\u001b[49m\u001b[38;5;241;43m=\u001b[39;49m\u001b[43mparser\u001b[49m\u001b[43m)\u001b[49m\n",
      "File \u001b[1;32mc:\\Users\\fredr\\AI\\ideation-station\\.venv\\lib\\site-packages\\langchain_core\\utils\\json.py:160\u001b[0m, in \u001b[0;36m_parse_json\u001b[1;34m(json_str, parser)\u001b[0m\n\u001b[0;32m    159\u001b[0m \u001b[38;5;66;03m# Parse the JSON string into a Python dictionary\u001b[39;00m\n\u001b[1;32m--> 160\u001b[0m \u001b[38;5;28;01mreturn\u001b[39;00m \u001b[43mparser\u001b[49m\u001b[43m(\u001b[49m\u001b[43mjson_str\u001b[49m\u001b[43m)\u001b[49m\n",
      "File \u001b[1;32mc:\\Users\\fredr\\AI\\ideation-station\\.venv\\lib\\site-packages\\langchain_core\\utils\\json.py:120\u001b[0m, in \u001b[0;36mparse_partial_json\u001b[1;34m(s, strict)\u001b[0m\n\u001b[0;32m    117\u001b[0m \u001b[38;5;66;03m# If we got here, we ran out of characters to remove\u001b[39;00m\n\u001b[0;32m    118\u001b[0m \u001b[38;5;66;03m# and still couldn't parse the string as JSON, so return the parse error\u001b[39;00m\n\u001b[0;32m    119\u001b[0m \u001b[38;5;66;03m# for the original string.\u001b[39;00m\n\u001b[1;32m--> 120\u001b[0m \u001b[38;5;28;01mreturn\u001b[39;00m \u001b[43mjson\u001b[49m\u001b[38;5;241;43m.\u001b[39;49m\u001b[43mloads\u001b[49m\u001b[43m(\u001b[49m\u001b[43ms\u001b[49m\u001b[43m,\u001b[49m\u001b[43m \u001b[49m\u001b[43mstrict\u001b[49m\u001b[38;5;241;43m=\u001b[39;49m\u001b[43mstrict\u001b[49m\u001b[43m)\u001b[49m\n",
      "File \u001b[1;32m~\\AppData\\Local\\Programs\\Python\\Python310\\lib\\json\\__init__.py:359\u001b[0m, in \u001b[0;36mloads\u001b[1;34m(s, cls, object_hook, parse_float, parse_int, parse_constant, object_pairs_hook, **kw)\u001b[0m\n\u001b[0;32m    358\u001b[0m     kw[\u001b[38;5;124m'\u001b[39m\u001b[38;5;124mparse_constant\u001b[39m\u001b[38;5;124m'\u001b[39m] \u001b[38;5;241m=\u001b[39m parse_constant\n\u001b[1;32m--> 359\u001b[0m \u001b[38;5;28;01mreturn\u001b[39;00m \u001b[38;5;28;43mcls\u001b[39;49m\u001b[43m(\u001b[49m\u001b[38;5;241;43m*\u001b[39;49m\u001b[38;5;241;43m*\u001b[39;49m\u001b[43mkw\u001b[49m\u001b[43m)\u001b[49m\u001b[38;5;241;43m.\u001b[39;49m\u001b[43mdecode\u001b[49m\u001b[43m(\u001b[49m\u001b[43ms\u001b[49m\u001b[43m)\u001b[49m\n",
      "File \u001b[1;32m~\\AppData\\Local\\Programs\\Python\\Python310\\lib\\json\\decoder.py:337\u001b[0m, in \u001b[0;36mJSONDecoder.decode\u001b[1;34m(self, s, _w)\u001b[0m\n\u001b[0;32m    333\u001b[0m \u001b[38;5;250m\u001b[39m\u001b[38;5;124;03m\"\"\"Return the Python representation of ``s`` (a ``str`` instance\u001b[39;00m\n\u001b[0;32m    334\u001b[0m \u001b[38;5;124;03mcontaining a JSON document).\u001b[39;00m\n\u001b[0;32m    335\u001b[0m \n\u001b[0;32m    336\u001b[0m \u001b[38;5;124;03m\"\"\"\u001b[39;00m\n\u001b[1;32m--> 337\u001b[0m obj, end \u001b[38;5;241m=\u001b[39m \u001b[38;5;28;43mself\u001b[39;49m\u001b[38;5;241;43m.\u001b[39;49m\u001b[43mraw_decode\u001b[49m\u001b[43m(\u001b[49m\u001b[43ms\u001b[49m\u001b[43m,\u001b[49m\u001b[43m \u001b[49m\u001b[43midx\u001b[49m\u001b[38;5;241;43m=\u001b[39;49m\u001b[43m_w\u001b[49m\u001b[43m(\u001b[49m\u001b[43ms\u001b[49m\u001b[43m,\u001b[49m\u001b[43m \u001b[49m\u001b[38;5;241;43m0\u001b[39;49m\u001b[43m)\u001b[49m\u001b[38;5;241;43m.\u001b[39;49m\u001b[43mend\u001b[49m\u001b[43m(\u001b[49m\u001b[43m)\u001b[49m\u001b[43m)\u001b[49m\n\u001b[0;32m    338\u001b[0m end \u001b[38;5;241m=\u001b[39m _w(s, end)\u001b[38;5;241m.\u001b[39mend()\n",
      "File \u001b[1;32m~\\AppData\\Local\\Programs\\Python\\Python310\\lib\\json\\decoder.py:355\u001b[0m, in \u001b[0;36mJSONDecoder.raw_decode\u001b[1;34m(self, s, idx)\u001b[0m\n\u001b[0;32m    354\u001b[0m \u001b[38;5;28;01mexcept\u001b[39;00m \u001b[38;5;167;01mStopIteration\u001b[39;00m \u001b[38;5;28;01mas\u001b[39;00m err:\n\u001b[1;32m--> 355\u001b[0m     \u001b[38;5;28;01mraise\u001b[39;00m JSONDecodeError(\u001b[38;5;124m\"\u001b[39m\u001b[38;5;124mExpecting value\u001b[39m\u001b[38;5;124m\"\u001b[39m, s, err\u001b[38;5;241m.\u001b[39mvalue) \u001b[38;5;28;01mfrom\u001b[39;00m \u001b[38;5;28;01mNone\u001b[39;00m\n\u001b[0;32m    356\u001b[0m \u001b[38;5;28;01mreturn\u001b[39;00m obj, end\n",
      "\u001b[1;31mJSONDecodeError\u001b[0m: Expecting value: line 1 column 1 (char 0)",
      "\nThe above exception was the direct cause of the following exception:\n",
      "\u001b[1;31mOutputParserException\u001b[0m                     Traceback (most recent call last)",
      "Cell \u001b[1;32mIn[31], line 1\u001b[0m\n\u001b[1;32m----> 1\u001b[0m test \u001b[38;5;241m=\u001b[39m \u001b[43mcomplete_chain\u001b[49m\u001b[38;5;241;43m.\u001b[39;49m\u001b[43minvoke\u001b[49m\u001b[43m(\u001b[49m\u001b[43m{\u001b[49m\u001b[38;5;124;43m\"\u001b[39;49m\u001b[38;5;124;43mtopic\u001b[39;49m\u001b[38;5;124;43m\"\u001b[39;49m\u001b[43m:\u001b[49m\u001b[38;5;124;43m\"\u001b[39;49m\u001b[38;5;124;43mcyber security bike rides\u001b[39;49m\u001b[38;5;124;43m\"\u001b[39;49m\u001b[43m}\u001b[49m\u001b[43m)\u001b[49m\n",
      "File \u001b[1;32mc:\\Users\\fredr\\AI\\ideation-station\\.venv\\lib\\site-packages\\langchain_core\\runnables\\base.py:2499\u001b[0m, in \u001b[0;36mRunnableSequence.invoke\u001b[1;34m(self, input, config)\u001b[0m\n\u001b[0;32m   2497\u001b[0m \u001b[38;5;28;01mtry\u001b[39;00m:\n\u001b[0;32m   2498\u001b[0m     \u001b[38;5;28;01mfor\u001b[39;00m i, step \u001b[38;5;129;01min\u001b[39;00m \u001b[38;5;28menumerate\u001b[39m(\u001b[38;5;28mself\u001b[39m\u001b[38;5;241m.\u001b[39msteps):\n\u001b[1;32m-> 2499\u001b[0m         \u001b[38;5;28minput\u001b[39m \u001b[38;5;241m=\u001b[39m \u001b[43mstep\u001b[49m\u001b[38;5;241;43m.\u001b[39;49m\u001b[43minvoke\u001b[49m\u001b[43m(\u001b[49m\n\u001b[0;32m   2500\u001b[0m \u001b[43m            \u001b[49m\u001b[38;5;28;43minput\u001b[39;49m\u001b[43m,\u001b[49m\n\u001b[0;32m   2501\u001b[0m \u001b[43m            \u001b[49m\u001b[38;5;66;43;03m# mark each step as a child run\u001b[39;49;00m\n\u001b[0;32m   2502\u001b[0m \u001b[43m            \u001b[49m\u001b[43mpatch_config\u001b[49m\u001b[43m(\u001b[49m\n\u001b[0;32m   2503\u001b[0m \u001b[43m                \u001b[49m\u001b[43mconfig\u001b[49m\u001b[43m,\u001b[49m\u001b[43m \u001b[49m\u001b[43mcallbacks\u001b[49m\u001b[38;5;241;43m=\u001b[39;49m\u001b[43mrun_manager\u001b[49m\u001b[38;5;241;43m.\u001b[39;49m\u001b[43mget_child\u001b[49m\u001b[43m(\u001b[49m\u001b[38;5;124;43mf\u001b[39;49m\u001b[38;5;124;43m\"\u001b[39;49m\u001b[38;5;124;43mseq:step:\u001b[39;49m\u001b[38;5;132;43;01m{\u001b[39;49;00m\u001b[43mi\u001b[49m\u001b[38;5;241;43m+\u001b[39;49m\u001b[38;5;241;43m1\u001b[39;49m\u001b[38;5;132;43;01m}\u001b[39;49;00m\u001b[38;5;124;43m\"\u001b[39;49m\u001b[43m)\u001b[49m\n\u001b[0;32m   2504\u001b[0m \u001b[43m            \u001b[49m\u001b[43m)\u001b[49m\u001b[43m,\u001b[49m\n\u001b[0;32m   2505\u001b[0m \u001b[43m        \u001b[49m\u001b[43m)\u001b[49m\n\u001b[0;32m   2506\u001b[0m \u001b[38;5;66;03m# finish the root run\u001b[39;00m\n\u001b[0;32m   2507\u001b[0m \u001b[38;5;28;01mexcept\u001b[39;00m \u001b[38;5;167;01mBaseException\u001b[39;00m \u001b[38;5;28;01mas\u001b[39;00m e:\n",
      "File \u001b[1;32mc:\\Users\\fredr\\AI\\ideation-station\\.venv\\lib\\site-packages\\langchain_core\\runnables\\passthrough.py:469\u001b[0m, in \u001b[0;36mRunnableAssign.invoke\u001b[1;34m(self, input, config, **kwargs)\u001b[0m\n\u001b[0;32m    463\u001b[0m \u001b[38;5;28;01mdef\u001b[39;00m \u001b[38;5;21minvoke\u001b[39m(\n\u001b[0;32m    464\u001b[0m     \u001b[38;5;28mself\u001b[39m,\n\u001b[0;32m    465\u001b[0m     \u001b[38;5;28minput\u001b[39m: Dict[\u001b[38;5;28mstr\u001b[39m, Any],\n\u001b[0;32m    466\u001b[0m     config: Optional[RunnableConfig] \u001b[38;5;241m=\u001b[39m \u001b[38;5;28;01mNone\u001b[39;00m,\n\u001b[0;32m    467\u001b[0m     \u001b[38;5;241m*\u001b[39m\u001b[38;5;241m*\u001b[39mkwargs: Any,\n\u001b[0;32m    468\u001b[0m ) \u001b[38;5;241m-\u001b[39m\u001b[38;5;241m>\u001b[39m Dict[\u001b[38;5;28mstr\u001b[39m, Any]:\n\u001b[1;32m--> 469\u001b[0m     \u001b[38;5;28;01mreturn\u001b[39;00m \u001b[38;5;28mself\u001b[39m\u001b[38;5;241m.\u001b[39m_call_with_config(\u001b[38;5;28mself\u001b[39m\u001b[38;5;241m.\u001b[39m_invoke, \u001b[38;5;28minput\u001b[39m, config, \u001b[38;5;241m*\u001b[39m\u001b[38;5;241m*\u001b[39mkwargs)\n",
      "File \u001b[1;32mc:\\Users\\fredr\\AI\\ideation-station\\.venv\\lib\\site-packages\\langchain_core\\runnables\\base.py:1626\u001b[0m, in \u001b[0;36mRunnable._call_with_config\u001b[1;34m(self, func, input, config, run_type, **kwargs)\u001b[0m\n\u001b[0;32m   1622\u001b[0m     context \u001b[38;5;241m=\u001b[39m copy_context()\n\u001b[0;32m   1623\u001b[0m     context\u001b[38;5;241m.\u001b[39mrun(var_child_runnable_config\u001b[38;5;241m.\u001b[39mset, child_config)\n\u001b[0;32m   1624\u001b[0m     output \u001b[38;5;241m=\u001b[39m cast(\n\u001b[0;32m   1625\u001b[0m         Output,\n\u001b[1;32m-> 1626\u001b[0m         context\u001b[38;5;241m.\u001b[39mrun(\n\u001b[0;32m   1627\u001b[0m             call_func_with_variable_args,  \u001b[38;5;66;03m# type: ignore[arg-type]\u001b[39;00m\n\u001b[0;32m   1628\u001b[0m             func,  \u001b[38;5;66;03m# type: ignore[arg-type]\u001b[39;00m\n\u001b[0;32m   1629\u001b[0m             \u001b[38;5;28minput\u001b[39m,  \u001b[38;5;66;03m# type: ignore[arg-type]\u001b[39;00m\n\u001b[0;32m   1630\u001b[0m             config,\n\u001b[0;32m   1631\u001b[0m             run_manager,\n\u001b[0;32m   1632\u001b[0m             \u001b[38;5;241m*\u001b[39m\u001b[38;5;241m*\u001b[39mkwargs,\n\u001b[0;32m   1633\u001b[0m         ),\n\u001b[0;32m   1634\u001b[0m     )\n\u001b[0;32m   1635\u001b[0m \u001b[38;5;28;01mexcept\u001b[39;00m \u001b[38;5;167;01mBaseException\u001b[39;00m \u001b[38;5;28;01mas\u001b[39;00m e:\n\u001b[0;32m   1636\u001b[0m     run_manager\u001b[38;5;241m.\u001b[39mon_chain_error(e)\n",
      "File \u001b[1;32mc:\\Users\\fredr\\AI\\ideation-station\\.venv\\lib\\site-packages\\langchain_core\\runnables\\config.py:347\u001b[0m, in \u001b[0;36mcall_func_with_variable_args\u001b[1;34m(func, input, config, run_manager, **kwargs)\u001b[0m\n\u001b[0;32m    345\u001b[0m \u001b[38;5;28;01mif\u001b[39;00m run_manager \u001b[38;5;129;01mis\u001b[39;00m \u001b[38;5;129;01mnot\u001b[39;00m \u001b[38;5;28;01mNone\u001b[39;00m \u001b[38;5;129;01mand\u001b[39;00m accepts_run_manager(func):\n\u001b[0;32m    346\u001b[0m     kwargs[\u001b[38;5;124m\"\u001b[39m\u001b[38;5;124mrun_manager\u001b[39m\u001b[38;5;124m\"\u001b[39m] \u001b[38;5;241m=\u001b[39m run_manager\n\u001b[1;32m--> 347\u001b[0m \u001b[38;5;28;01mreturn\u001b[39;00m func(\u001b[38;5;28minput\u001b[39m, \u001b[38;5;241m*\u001b[39m\u001b[38;5;241m*\u001b[39mkwargs)\n",
      "File \u001b[1;32mc:\\Users\\fredr\\AI\\ideation-station\\.venv\\lib\\site-packages\\langchain_core\\runnables\\passthrough.py:456\u001b[0m, in \u001b[0;36mRunnableAssign._invoke\u001b[1;34m(self, input, run_manager, config, **kwargs)\u001b[0m\n\u001b[0;32m    443\u001b[0m \u001b[38;5;28;01mdef\u001b[39;00m \u001b[38;5;21m_invoke\u001b[39m(\n\u001b[0;32m    444\u001b[0m     \u001b[38;5;28mself\u001b[39m,\n\u001b[0;32m    445\u001b[0m     \u001b[38;5;28minput\u001b[39m: Dict[\u001b[38;5;28mstr\u001b[39m, Any],\n\u001b[1;32m   (...)\u001b[0m\n\u001b[0;32m    448\u001b[0m     \u001b[38;5;241m*\u001b[39m\u001b[38;5;241m*\u001b[39mkwargs: Any,\n\u001b[0;32m    449\u001b[0m ) \u001b[38;5;241m-\u001b[39m\u001b[38;5;241m>\u001b[39m Dict[\u001b[38;5;28mstr\u001b[39m, Any]:\n\u001b[0;32m    450\u001b[0m     \u001b[38;5;28;01massert\u001b[39;00m \u001b[38;5;28misinstance\u001b[39m(\n\u001b[0;32m    451\u001b[0m         \u001b[38;5;28minput\u001b[39m, \u001b[38;5;28mdict\u001b[39m\n\u001b[0;32m    452\u001b[0m     ), \u001b[38;5;124m\"\u001b[39m\u001b[38;5;124mThe input to RunnablePassthrough.assign() must be a dict.\u001b[39m\u001b[38;5;124m\"\u001b[39m\n\u001b[0;32m    454\u001b[0m     \u001b[38;5;28;01mreturn\u001b[39;00m {\n\u001b[0;32m    455\u001b[0m         \u001b[38;5;241m*\u001b[39m\u001b[38;5;241m*\u001b[39m\u001b[38;5;28minput\u001b[39m,\n\u001b[1;32m--> 456\u001b[0m         \u001b[38;5;241m*\u001b[39m\u001b[38;5;241m*\u001b[39m\u001b[38;5;28mself\u001b[39m\u001b[38;5;241m.\u001b[39mmapper\u001b[38;5;241m.\u001b[39minvoke(\n\u001b[0;32m    457\u001b[0m             \u001b[38;5;28minput\u001b[39m,\n\u001b[0;32m    458\u001b[0m             patch_config(config, callbacks\u001b[38;5;241m=\u001b[39mrun_manager\u001b[38;5;241m.\u001b[39mget_child()),\n\u001b[0;32m    459\u001b[0m             \u001b[38;5;241m*\u001b[39m\u001b[38;5;241m*\u001b[39mkwargs,\n\u001b[0;32m    460\u001b[0m         ),\n\u001b[0;32m    461\u001b[0m     }\n",
      "File \u001b[1;32mc:\\Users\\fredr\\AI\\ideation-station\\.venv\\lib\\site-packages\\langchain_core\\runnables\\base.py:3142\u001b[0m, in \u001b[0;36mRunnableParallel.invoke\u001b[1;34m(self, input, config)\u001b[0m\n\u001b[0;32m   3129\u001b[0m     \u001b[38;5;28;01mwith\u001b[39;00m get_executor_for_config(config) \u001b[38;5;28;01mas\u001b[39;00m executor:\n\u001b[0;32m   3130\u001b[0m         futures \u001b[38;5;241m=\u001b[39m [\n\u001b[0;32m   3131\u001b[0m             executor\u001b[38;5;241m.\u001b[39msubmit(\n\u001b[0;32m   3132\u001b[0m                 step\u001b[38;5;241m.\u001b[39minvoke,\n\u001b[1;32m   (...)\u001b[0m\n\u001b[0;32m   3140\u001b[0m             \u001b[38;5;28;01mfor\u001b[39;00m key, step \u001b[38;5;129;01min\u001b[39;00m steps\u001b[38;5;241m.\u001b[39mitems()\n\u001b[0;32m   3141\u001b[0m         ]\n\u001b[1;32m-> 3142\u001b[0m         output \u001b[38;5;241m=\u001b[39m {key: future\u001b[38;5;241m.\u001b[39mresult() \u001b[38;5;28;01mfor\u001b[39;00m key, future \u001b[38;5;129;01min\u001b[39;00m \u001b[38;5;28mzip\u001b[39m(steps, futures)}\n\u001b[0;32m   3143\u001b[0m \u001b[38;5;66;03m# finish the root run\u001b[39;00m\n\u001b[0;32m   3144\u001b[0m \u001b[38;5;28;01mexcept\u001b[39;00m \u001b[38;5;167;01mBaseException\u001b[39;00m \u001b[38;5;28;01mas\u001b[39;00m e:\n",
      "File \u001b[1;32mc:\\Users\\fredr\\AI\\ideation-station\\.venv\\lib\\site-packages\\langchain_core\\runnables\\base.py:3142\u001b[0m, in \u001b[0;36m<dictcomp>\u001b[1;34m(.0)\u001b[0m\n\u001b[0;32m   3129\u001b[0m     \u001b[38;5;28;01mwith\u001b[39;00m get_executor_for_config(config) \u001b[38;5;28;01mas\u001b[39;00m executor:\n\u001b[0;32m   3130\u001b[0m         futures \u001b[38;5;241m=\u001b[39m [\n\u001b[0;32m   3131\u001b[0m             executor\u001b[38;5;241m.\u001b[39msubmit(\n\u001b[0;32m   3132\u001b[0m                 step\u001b[38;5;241m.\u001b[39minvoke,\n\u001b[1;32m   (...)\u001b[0m\n\u001b[0;32m   3140\u001b[0m             \u001b[38;5;28;01mfor\u001b[39;00m key, step \u001b[38;5;129;01min\u001b[39;00m steps\u001b[38;5;241m.\u001b[39mitems()\n\u001b[0;32m   3141\u001b[0m         ]\n\u001b[1;32m-> 3142\u001b[0m         output \u001b[38;5;241m=\u001b[39m {key: \u001b[43mfuture\u001b[49m\u001b[38;5;241;43m.\u001b[39;49m\u001b[43mresult\u001b[49m\u001b[43m(\u001b[49m\u001b[43m)\u001b[49m \u001b[38;5;28;01mfor\u001b[39;00m key, future \u001b[38;5;129;01min\u001b[39;00m \u001b[38;5;28mzip\u001b[39m(steps, futures)}\n\u001b[0;32m   3143\u001b[0m \u001b[38;5;66;03m# finish the root run\u001b[39;00m\n\u001b[0;32m   3144\u001b[0m \u001b[38;5;28;01mexcept\u001b[39;00m \u001b[38;5;167;01mBaseException\u001b[39;00m \u001b[38;5;28;01mas\u001b[39;00m e:\n",
      "File \u001b[1;32m~\\AppData\\Local\\Programs\\Python\\Python310\\lib\\concurrent\\futures\\_base.py:458\u001b[0m, in \u001b[0;36mFuture.result\u001b[1;34m(self, timeout)\u001b[0m\n\u001b[0;32m    456\u001b[0m     \u001b[38;5;28;01mraise\u001b[39;00m CancelledError()\n\u001b[0;32m    457\u001b[0m \u001b[38;5;28;01melif\u001b[39;00m \u001b[38;5;28mself\u001b[39m\u001b[38;5;241m.\u001b[39m_state \u001b[38;5;241m==\u001b[39m FINISHED:\n\u001b[1;32m--> 458\u001b[0m     \u001b[38;5;28;01mreturn\u001b[39;00m \u001b[38;5;28;43mself\u001b[39;49m\u001b[38;5;241;43m.\u001b[39;49m\u001b[43m__get_result\u001b[49m\u001b[43m(\u001b[49m\u001b[43m)\u001b[49m\n\u001b[0;32m    459\u001b[0m \u001b[38;5;28;01melse\u001b[39;00m:\n\u001b[0;32m    460\u001b[0m     \u001b[38;5;28;01mraise\u001b[39;00m \u001b[38;5;167;01mTimeoutError\u001b[39;00m()\n",
      "File \u001b[1;32m~\\AppData\\Local\\Programs\\Python\\Python310\\lib\\concurrent\\futures\\_base.py:403\u001b[0m, in \u001b[0;36mFuture.__get_result\u001b[1;34m(self)\u001b[0m\n\u001b[0;32m    401\u001b[0m \u001b[38;5;28;01mif\u001b[39;00m \u001b[38;5;28mself\u001b[39m\u001b[38;5;241m.\u001b[39m_exception:\n\u001b[0;32m    402\u001b[0m     \u001b[38;5;28;01mtry\u001b[39;00m:\n\u001b[1;32m--> 403\u001b[0m         \u001b[38;5;28;01mraise\u001b[39;00m \u001b[38;5;28mself\u001b[39m\u001b[38;5;241m.\u001b[39m_exception\n\u001b[0;32m    404\u001b[0m     \u001b[38;5;28;01mfinally\u001b[39;00m:\n\u001b[0;32m    405\u001b[0m         \u001b[38;5;66;03m# Break a reference cycle with the exception in self._exception\u001b[39;00m\n\u001b[0;32m    406\u001b[0m         \u001b[38;5;28mself\u001b[39m \u001b[38;5;241m=\u001b[39m \u001b[38;5;28;01mNone\u001b[39;00m\n",
      "File \u001b[1;32m~\\AppData\\Local\\Programs\\Python\\Python310\\lib\\concurrent\\futures\\thread.py:58\u001b[0m, in \u001b[0;36m_WorkItem.run\u001b[1;34m(self)\u001b[0m\n\u001b[0;32m     55\u001b[0m     \u001b[38;5;28;01mreturn\u001b[39;00m\n\u001b[0;32m     57\u001b[0m \u001b[38;5;28;01mtry\u001b[39;00m:\n\u001b[1;32m---> 58\u001b[0m     result \u001b[38;5;241m=\u001b[39m \u001b[38;5;28mself\u001b[39m\u001b[38;5;241m.\u001b[39mfn(\u001b[38;5;241m*\u001b[39m\u001b[38;5;28mself\u001b[39m\u001b[38;5;241m.\u001b[39margs, \u001b[38;5;241m*\u001b[39m\u001b[38;5;241m*\u001b[39m\u001b[38;5;28mself\u001b[39m\u001b[38;5;241m.\u001b[39mkwargs)\n\u001b[0;32m     59\u001b[0m \u001b[38;5;28;01mexcept\u001b[39;00m \u001b[38;5;167;01mBaseException\u001b[39;00m \u001b[38;5;28;01mas\u001b[39;00m exc:\n\u001b[0;32m     60\u001b[0m     \u001b[38;5;28mself\u001b[39m\u001b[38;5;241m.\u001b[39mfuture\u001b[38;5;241m.\u001b[39mset_exception(exc)\n",
      "File \u001b[1;32mc:\\Users\\fredr\\AI\\ideation-station\\.venv\\lib\\site-packages\\langchain_core\\runnables\\base.py:2499\u001b[0m, in \u001b[0;36mRunnableSequence.invoke\u001b[1;34m(self, input, config)\u001b[0m\n\u001b[0;32m   2497\u001b[0m \u001b[38;5;28;01mtry\u001b[39;00m:\n\u001b[0;32m   2498\u001b[0m     \u001b[38;5;28;01mfor\u001b[39;00m i, step \u001b[38;5;129;01min\u001b[39;00m \u001b[38;5;28menumerate\u001b[39m(\u001b[38;5;28mself\u001b[39m\u001b[38;5;241m.\u001b[39msteps):\n\u001b[1;32m-> 2499\u001b[0m         \u001b[38;5;28minput\u001b[39m \u001b[38;5;241m=\u001b[39m \u001b[43mstep\u001b[49m\u001b[38;5;241;43m.\u001b[39;49m\u001b[43minvoke\u001b[49m\u001b[43m(\u001b[49m\n\u001b[0;32m   2500\u001b[0m \u001b[43m            \u001b[49m\u001b[38;5;28;43minput\u001b[39;49m\u001b[43m,\u001b[49m\n\u001b[0;32m   2501\u001b[0m \u001b[43m            \u001b[49m\u001b[38;5;66;43;03m# mark each step as a child run\u001b[39;49;00m\n\u001b[0;32m   2502\u001b[0m \u001b[43m            \u001b[49m\u001b[43mpatch_config\u001b[49m\u001b[43m(\u001b[49m\n\u001b[0;32m   2503\u001b[0m \u001b[43m                \u001b[49m\u001b[43mconfig\u001b[49m\u001b[43m,\u001b[49m\u001b[43m \u001b[49m\u001b[43mcallbacks\u001b[49m\u001b[38;5;241;43m=\u001b[39;49m\u001b[43mrun_manager\u001b[49m\u001b[38;5;241;43m.\u001b[39;49m\u001b[43mget_child\u001b[49m\u001b[43m(\u001b[49m\u001b[38;5;124;43mf\u001b[39;49m\u001b[38;5;124;43m\"\u001b[39;49m\u001b[38;5;124;43mseq:step:\u001b[39;49m\u001b[38;5;132;43;01m{\u001b[39;49;00m\u001b[43mi\u001b[49m\u001b[38;5;241;43m+\u001b[39;49m\u001b[38;5;241;43m1\u001b[39;49m\u001b[38;5;132;43;01m}\u001b[39;49;00m\u001b[38;5;124;43m\"\u001b[39;49m\u001b[43m)\u001b[49m\n\u001b[0;32m   2504\u001b[0m \u001b[43m            \u001b[49m\u001b[43m)\u001b[49m\u001b[43m,\u001b[49m\n\u001b[0;32m   2505\u001b[0m \u001b[43m        \u001b[49m\u001b[43m)\u001b[49m\n\u001b[0;32m   2506\u001b[0m \u001b[38;5;66;03m# finish the root run\u001b[39;00m\n\u001b[0;32m   2507\u001b[0m \u001b[38;5;28;01mexcept\u001b[39;00m \u001b[38;5;167;01mBaseException\u001b[39;00m \u001b[38;5;28;01mas\u001b[39;00m e:\n",
      "File \u001b[1;32mc:\\Users\\fredr\\AI\\ideation-station\\.venv\\lib\\site-packages\\langchain_core\\output_parsers\\base.py:169\u001b[0m, in \u001b[0;36mBaseOutputParser.invoke\u001b[1;34m(self, input, config)\u001b[0m\n\u001b[0;32m    165\u001b[0m \u001b[38;5;28;01mdef\u001b[39;00m \u001b[38;5;21minvoke\u001b[39m(\n\u001b[0;32m    166\u001b[0m     \u001b[38;5;28mself\u001b[39m, \u001b[38;5;28minput\u001b[39m: Union[\u001b[38;5;28mstr\u001b[39m, BaseMessage], config: Optional[RunnableConfig] \u001b[38;5;241m=\u001b[39m \u001b[38;5;28;01mNone\u001b[39;00m\n\u001b[0;32m    167\u001b[0m ) \u001b[38;5;241m-\u001b[39m\u001b[38;5;241m>\u001b[39m T:\n\u001b[0;32m    168\u001b[0m     \u001b[38;5;28;01mif\u001b[39;00m \u001b[38;5;28misinstance\u001b[39m(\u001b[38;5;28minput\u001b[39m, BaseMessage):\n\u001b[1;32m--> 169\u001b[0m         \u001b[38;5;28;01mreturn\u001b[39;00m \u001b[38;5;28;43mself\u001b[39;49m\u001b[38;5;241;43m.\u001b[39;49m\u001b[43m_call_with_config\u001b[49m\u001b[43m(\u001b[49m\n\u001b[0;32m    170\u001b[0m \u001b[43m            \u001b[49m\u001b[38;5;28;43;01mlambda\u001b[39;49;00m\u001b[43m \u001b[49m\u001b[43minner_input\u001b[49m\u001b[43m:\u001b[49m\u001b[43m \u001b[49m\u001b[38;5;28;43mself\u001b[39;49m\u001b[38;5;241;43m.\u001b[39;49m\u001b[43mparse_result\u001b[49m\u001b[43m(\u001b[49m\n\u001b[0;32m    171\u001b[0m \u001b[43m                \u001b[49m\u001b[43m[\u001b[49m\u001b[43mChatGeneration\u001b[49m\u001b[43m(\u001b[49m\u001b[43mmessage\u001b[49m\u001b[38;5;241;43m=\u001b[39;49m\u001b[43minner_input\u001b[49m\u001b[43m)\u001b[49m\u001b[43m]\u001b[49m\n\u001b[0;32m    172\u001b[0m \u001b[43m            \u001b[49m\u001b[43m)\u001b[49m\u001b[43m,\u001b[49m\n\u001b[0;32m    173\u001b[0m \u001b[43m            \u001b[49m\u001b[38;5;28;43minput\u001b[39;49m\u001b[43m,\u001b[49m\n\u001b[0;32m    174\u001b[0m \u001b[43m            \u001b[49m\u001b[43mconfig\u001b[49m\u001b[43m,\u001b[49m\n\u001b[0;32m    175\u001b[0m \u001b[43m            \u001b[49m\u001b[43mrun_type\u001b[49m\u001b[38;5;241;43m=\u001b[39;49m\u001b[38;5;124;43m\"\u001b[39;49m\u001b[38;5;124;43mparser\u001b[39;49m\u001b[38;5;124;43m\"\u001b[39;49m\u001b[43m,\u001b[49m\n\u001b[0;32m    176\u001b[0m \u001b[43m        \u001b[49m\u001b[43m)\u001b[49m\n\u001b[0;32m    177\u001b[0m     \u001b[38;5;28;01melse\u001b[39;00m:\n\u001b[0;32m    178\u001b[0m         \u001b[38;5;28;01mreturn\u001b[39;00m \u001b[38;5;28mself\u001b[39m\u001b[38;5;241m.\u001b[39m_call_with_config(\n\u001b[0;32m    179\u001b[0m             \u001b[38;5;28;01mlambda\u001b[39;00m inner_input: \u001b[38;5;28mself\u001b[39m\u001b[38;5;241m.\u001b[39mparse_result([Generation(text\u001b[38;5;241m=\u001b[39minner_input)]),\n\u001b[0;32m    180\u001b[0m             \u001b[38;5;28minput\u001b[39m,\n\u001b[0;32m    181\u001b[0m             config,\n\u001b[0;32m    182\u001b[0m             run_type\u001b[38;5;241m=\u001b[39m\u001b[38;5;124m\"\u001b[39m\u001b[38;5;124mparser\u001b[39m\u001b[38;5;124m\"\u001b[39m,\n\u001b[0;32m    183\u001b[0m         )\n",
      "File \u001b[1;32mc:\\Users\\fredr\\AI\\ideation-station\\.venv\\lib\\site-packages\\langchain_core\\runnables\\base.py:1626\u001b[0m, in \u001b[0;36mRunnable._call_with_config\u001b[1;34m(self, func, input, config, run_type, **kwargs)\u001b[0m\n\u001b[0;32m   1622\u001b[0m     context \u001b[38;5;241m=\u001b[39m copy_context()\n\u001b[0;32m   1623\u001b[0m     context\u001b[38;5;241m.\u001b[39mrun(var_child_runnable_config\u001b[38;5;241m.\u001b[39mset, child_config)\n\u001b[0;32m   1624\u001b[0m     output \u001b[38;5;241m=\u001b[39m cast(\n\u001b[0;32m   1625\u001b[0m         Output,\n\u001b[1;32m-> 1626\u001b[0m         context\u001b[38;5;241m.\u001b[39mrun(\n\u001b[0;32m   1627\u001b[0m             call_func_with_variable_args,  \u001b[38;5;66;03m# type: ignore[arg-type]\u001b[39;00m\n\u001b[0;32m   1628\u001b[0m             func,  \u001b[38;5;66;03m# type: ignore[arg-type]\u001b[39;00m\n\u001b[0;32m   1629\u001b[0m             \u001b[38;5;28minput\u001b[39m,  \u001b[38;5;66;03m# type: ignore[arg-type]\u001b[39;00m\n\u001b[0;32m   1630\u001b[0m             config,\n\u001b[0;32m   1631\u001b[0m             run_manager,\n\u001b[0;32m   1632\u001b[0m             \u001b[38;5;241m*\u001b[39m\u001b[38;5;241m*\u001b[39mkwargs,\n\u001b[0;32m   1633\u001b[0m         ),\n\u001b[0;32m   1634\u001b[0m     )\n\u001b[0;32m   1635\u001b[0m \u001b[38;5;28;01mexcept\u001b[39;00m \u001b[38;5;167;01mBaseException\u001b[39;00m \u001b[38;5;28;01mas\u001b[39;00m e:\n\u001b[0;32m   1636\u001b[0m     run_manager\u001b[38;5;241m.\u001b[39mon_chain_error(e)\n",
      "File \u001b[1;32mc:\\Users\\fredr\\AI\\ideation-station\\.venv\\lib\\site-packages\\langchain_core\\runnables\\config.py:347\u001b[0m, in \u001b[0;36mcall_func_with_variable_args\u001b[1;34m(func, input, config, run_manager, **kwargs)\u001b[0m\n\u001b[0;32m    345\u001b[0m \u001b[38;5;28;01mif\u001b[39;00m run_manager \u001b[38;5;129;01mis\u001b[39;00m \u001b[38;5;129;01mnot\u001b[39;00m \u001b[38;5;28;01mNone\u001b[39;00m \u001b[38;5;129;01mand\u001b[39;00m accepts_run_manager(func):\n\u001b[0;32m    346\u001b[0m     kwargs[\u001b[38;5;124m\"\u001b[39m\u001b[38;5;124mrun_manager\u001b[39m\u001b[38;5;124m\"\u001b[39m] \u001b[38;5;241m=\u001b[39m run_manager\n\u001b[1;32m--> 347\u001b[0m \u001b[38;5;28;01mreturn\u001b[39;00m func(\u001b[38;5;28minput\u001b[39m, \u001b[38;5;241m*\u001b[39m\u001b[38;5;241m*\u001b[39mkwargs)\n",
      "File \u001b[1;32mc:\\Users\\fredr\\AI\\ideation-station\\.venv\\lib\\site-packages\\langchain_core\\output_parsers\\base.py:170\u001b[0m, in \u001b[0;36mBaseOutputParser.invoke.<locals>.<lambda>\u001b[1;34m(inner_input)\u001b[0m\n\u001b[0;32m    165\u001b[0m \u001b[38;5;28;01mdef\u001b[39;00m \u001b[38;5;21minvoke\u001b[39m(\n\u001b[0;32m    166\u001b[0m     \u001b[38;5;28mself\u001b[39m, \u001b[38;5;28minput\u001b[39m: Union[\u001b[38;5;28mstr\u001b[39m, BaseMessage], config: Optional[RunnableConfig] \u001b[38;5;241m=\u001b[39m \u001b[38;5;28;01mNone\u001b[39;00m\n\u001b[0;32m    167\u001b[0m ) \u001b[38;5;241m-\u001b[39m\u001b[38;5;241m>\u001b[39m T:\n\u001b[0;32m    168\u001b[0m     \u001b[38;5;28;01mif\u001b[39;00m \u001b[38;5;28misinstance\u001b[39m(\u001b[38;5;28minput\u001b[39m, BaseMessage):\n\u001b[0;32m    169\u001b[0m         \u001b[38;5;28;01mreturn\u001b[39;00m \u001b[38;5;28mself\u001b[39m\u001b[38;5;241m.\u001b[39m_call_with_config(\n\u001b[1;32m--> 170\u001b[0m             \u001b[38;5;28;01mlambda\u001b[39;00m inner_input: \u001b[38;5;28;43mself\u001b[39;49m\u001b[38;5;241;43m.\u001b[39;49m\u001b[43mparse_result\u001b[49m\u001b[43m(\u001b[49m\n\u001b[0;32m    171\u001b[0m \u001b[43m                \u001b[49m\u001b[43m[\u001b[49m\u001b[43mChatGeneration\u001b[49m\u001b[43m(\u001b[49m\u001b[43mmessage\u001b[49m\u001b[38;5;241;43m=\u001b[39;49m\u001b[43minner_input\u001b[49m\u001b[43m)\u001b[49m\u001b[43m]\u001b[49m\n\u001b[0;32m    172\u001b[0m \u001b[43m            \u001b[49m\u001b[43m)\u001b[49m,\n\u001b[0;32m    173\u001b[0m             \u001b[38;5;28minput\u001b[39m,\n\u001b[0;32m    174\u001b[0m             config,\n\u001b[0;32m    175\u001b[0m             run_type\u001b[38;5;241m=\u001b[39m\u001b[38;5;124m\"\u001b[39m\u001b[38;5;124mparser\u001b[39m\u001b[38;5;124m\"\u001b[39m,\n\u001b[0;32m    176\u001b[0m         )\n\u001b[0;32m    177\u001b[0m     \u001b[38;5;28;01melse\u001b[39;00m:\n\u001b[0;32m    178\u001b[0m         \u001b[38;5;28;01mreturn\u001b[39;00m \u001b[38;5;28mself\u001b[39m\u001b[38;5;241m.\u001b[39m_call_with_config(\n\u001b[0;32m    179\u001b[0m             \u001b[38;5;28;01mlambda\u001b[39;00m inner_input: \u001b[38;5;28mself\u001b[39m\u001b[38;5;241m.\u001b[39mparse_result([Generation(text\u001b[38;5;241m=\u001b[39minner_input)]),\n\u001b[0;32m    180\u001b[0m             \u001b[38;5;28minput\u001b[39m,\n\u001b[0;32m    181\u001b[0m             config,\n\u001b[0;32m    182\u001b[0m             run_type\u001b[38;5;241m=\u001b[39m\u001b[38;5;124m\"\u001b[39m\u001b[38;5;124mparser\u001b[39m\u001b[38;5;124m\"\u001b[39m,\n\u001b[0;32m    183\u001b[0m         )\n",
      "File \u001b[1;32mc:\\Users\\fredr\\AI\\ideation-station\\.venv\\lib\\site-packages\\langchain_core\\output_parsers\\json.py:69\u001b[0m, in \u001b[0;36mJsonOutputParser.parse_result\u001b[1;34m(self, result, partial)\u001b[0m\n\u001b[0;32m     67\u001b[0m \u001b[38;5;28;01mexcept\u001b[39;00m JSONDecodeError \u001b[38;5;28;01mas\u001b[39;00m e:\n\u001b[0;32m     68\u001b[0m     msg \u001b[38;5;241m=\u001b[39m \u001b[38;5;124mf\u001b[39m\u001b[38;5;124m\"\u001b[39m\u001b[38;5;124mInvalid json output: \u001b[39m\u001b[38;5;132;01m{\u001b[39;00mtext\u001b[38;5;132;01m}\u001b[39;00m\u001b[38;5;124m\"\u001b[39m\n\u001b[1;32m---> 69\u001b[0m     \u001b[38;5;28;01mraise\u001b[39;00m OutputParserException(msg, llm_output\u001b[38;5;241m=\u001b[39mtext) \u001b[38;5;28;01mfrom\u001b[39;00m \u001b[38;5;21;01me\u001b[39;00m\n",
      "\u001b[1;31mOutputParserException\u001b[0m: Invalid json output: Here is the output formatted as a JSON instance that conforms to the provided schema:\n\n{\n  \"milestone_plan\": \"Milestone 1: Planning (2 months)\\n- Develop detailed tour routes and educational content\\n- Hire and train guides\\n- Secure bikes, helmets, and other gear\\n- Establish partnerships with local organizations\\n- Finalize pricing and booking system\\n\\nMilestone 2: Launch (1 month)\\n- Conduct initial marketing push\\n- Run first tours and gather feedback\\n- Refine tour format and content based on feedback\\n- Expand marketing efforts\\n\\nMilestone 3: Growth (6 months)\\n- Continue running and refining tours\\n- Expand to new cities/regions\\n- Develop additional tour formats (e.g., weekend trips)\\n- Pursue larger partnerships and sponsorships\\n\\nMilestone 4: Expansion (1 year+)\\n- Franchise model or expansion to international markets\\n- Develop online cyber security courses\\n- Expand product line (e.g., CyberCycle branded gear)\\n- Continual improvement of tours and educational content\",\n\n  \"gant_chart\": \"| Task | Month 1 | Month 2 | Month 3 | Month 4 | Month 5 | Month 6 |\\n|------|---------|---------|---------|---------|---------|---------|----------|\\n| Route planning | ✓ | ✓ |  |  |  |  |\\n| Content development | ✓ | ✓ |  |  |  |  |\\n| Guide hiring and training |  | ✓ | ✓ |  |  |  |\\n| Equipment procurement | ✓ | ✓ |  |  |  |  |\\n| Partnership establishment | ✓ | ✓ |  |  |  |  |\\n| Pricing and booking setup |  | ✓ |  |  |  |  |\\n| Initial marketing push |  |  | ✓ |  |  |  |\\n| Tour launch |  |  | ✓ |  |  |  |\\n| Feedback and refinement |  |  | ✓ | ✓ | ✓ | ✓ |\\n| Expansion to new markets |  |  |  |  | ✓ | ✓ |\",\n\n  \"raid_chart\": \"Risks:\\n- Injury or accidents during tours\\n- Guides not effectively conveying cyber security concepts\\n- Low initial demand or difficulty filling tours\\n- Partnerships not providing sufficient marketing boost\\n- Unexpected costs or cash flow issues\\n\\nAssumptions:\\n- Demand exists for combining cycling and cyber security education\\n- Guides can be trained to effectively teach and lead tours\\n- Partnerships will help drive initial demand\\n- Tour format and content will resonate with target audience\\n- No major economic or market disruptions\\n\\nIssues:\\n- Identifying and securing suitable tour routes\\n- Developing engaging and actionable educational content\\n- Finding guides with the right mix of skills and personality\\n- Balancing tour costs with pricing and profitability\\n- Ensuring consistent quality across all tours and guides\\n\\nDecisions:\\n- Specific cities/regions to launch in\\n- Pricing structure and group discount levels\\n- Types of bikes and gear to invest in\\n- Marketing channels and partnership opportunities to pursue\\n- Criteria for guide hiring and training program\",\n\n  \"task_table\": \"| Task | Owner | Due Date | Status |\\n|------|-------|----------|--------|\\n| Develop tour routes | Operations | June 1 | Not Started |\\n| Create educational content | Marketing | June 15 | Not Started |\\n| Hire guides | HR | July 1 | Not Started |\\n| Train guides | Operations | July 15 | Not Started |\\n| Procure bikes and gear | Operations | June 15 | Not Started |\\n| Establish local partnerships | Business Development | June 15 | Not Started |\\n| Set up booking system | IT | July 1 | Not Started |\\n| Launch marketing campaign | Marketing | August 1 | Not Started |\\n| Run initial tours | Operations | August 15 | Not Started |\\n|"
     ]
    }
   ],
   "source": [
    "test = complete_chain.invoke({\"topic\":\"cyber security bike rides\"})"
   ]
  },
  {
   "cell_type": "code",
   "execution_count": 23,
   "metadata": {},
   "outputs": [
    {
     "data": {
      "text/html": [
       "<pre style=\"white-space:pre;overflow-x:auto;line-height:normal;font-family:Menlo,'DejaVu Sans Mono',consolas,'Courier New',monospace\">InnovateHub: The Ultimate Ideation Platform\n",
       "</pre>\n"
      ],
      "text/plain": [
       "InnovateHub: The Ultimate Ideation Platform\n"
      ]
     },
     "metadata": {},
     "output_type": "display_data"
    },
    {
     "data": {
      "text/html": [
       "<pre style=\"white-space:pre;overflow-x:auto;line-height:normal;font-family:Menlo,'DejaVu Sans Mono',consolas,'Courier New',monospace\">InnovateHub is a cutting-edge ideation platform designed to facilitate brainstorming, idea generation, and \n",
       "collaborative innovation for businesses, startups, and creative teams. It integrates AI-driven insights, real-time \n",
       "collaboration tools, and customizable templates to streamline the ideation process.\n",
       "</pre>\n"
      ],
      "text/plain": [
       "InnovateHub is a cutting-edge ideation platform designed to facilitate brainstorming, idea generation, and \n",
       "collaborative innovation for businesses, startups, and creative teams. It integrates AI-driven insights, real-time \n",
       "collaboration tools, and customizable templates to streamline the ideation process.\n"
      ]
     },
     "metadata": {},
     "output_type": "display_data"
    },
    {
     "data": {
      "text/html": [
       "<pre style=\"white-space:pre;overflow-x:auto;line-height:normal;font-family:Menlo,'DejaVu Sans Mono',consolas,'Courier New',monospace\">Businesses, startups, creative teams, innovation managers, and product development teams.\n",
       "</pre>\n"
      ],
      "text/plain": [
       "Businesses, startups, creative teams, innovation managers, and product development teams.\n"
      ]
     },
     "metadata": {},
     "output_type": "display_data"
    },
    {
     "data": {
      "text/html": [
       "<pre style=\"white-space:pre;overflow-x:auto;line-height:normal;font-family:Menlo,'DejaVu Sans Mono',consolas,'Courier New',monospace\">InnovateHub offers a tiered pricing model: \n",
       "- Free Basic Plan: Includes limited access to basic features and templates. \n",
       "- Pro Plan <span style=\"font-weight: bold\">(</span>$<span style=\"color: #008080; text-decoration-color: #008080; font-weight: bold\">19.99</span>/month<span style=\"font-weight: bold\">)</span>: Offers advanced features, AI insights, and increased storage. \n",
       "- Enterprise Plan <span style=\"font-weight: bold\">(</span>custom pricing<span style=\"font-weight: bold\">)</span>: Tailored solutions with full customization, dedicated support, and advanced \n",
       "analytics.\n",
       "</pre>\n"
      ],
      "text/plain": [
       "InnovateHub offers a tiered pricing model: \n",
       "- Free Basic Plan: Includes limited access to basic features and templates. \n",
       "- Pro Plan \u001b[1m(\u001b[0m$\u001b[1;36m19.99\u001b[0m/month\u001b[1m)\u001b[0m: Offers advanced features, AI insights, and increased storage. \n",
       "- Enterprise Plan \u001b[1m(\u001b[0mcustom pricing\u001b[1m)\u001b[0m: Tailored solutions with full customization, dedicated support, and advanced \n",
       "analytics.\n"
      ]
     },
     "metadata": {},
     "output_type": "display_data"
    },
    {
     "data": {
      "text/html": [
       "<pre style=\"white-space:pre;overflow-x:auto;line-height:normal;font-family:Menlo,'DejaVu Sans Mono',consolas,'Courier New',monospace\">To market InnovateHub, focus on digital marketing strategies including SEO optimization, content marketing <span style=\"font-weight: bold\">(</span>blogs, \n",
       "whitepapers, case studies<span style=\"font-weight: bold\">)</span>, social media advertising, and partnerships with industry influencers. Additionally, \n",
       "offer free trials and webinars to showcase the platform's capabilities.\n",
       "</pre>\n"
      ],
      "text/plain": [
       "To market InnovateHub, focus on digital marketing strategies including SEO optimization, content marketing \u001b[1m(\u001b[0mblogs, \n",
       "whitepapers, case studies\u001b[1m)\u001b[0m, social media advertising, and partnerships with industry influencers. Additionally, \n",
       "offer free trials and webinars to showcase the platform's capabilities.\n"
      ]
     },
     "metadata": {},
     "output_type": "display_data"
    },
    {
     "data": {
      "text/html": [
       "<pre style=\"white-space:pre;overflow-x:auto;line-height:normal;font-family:Menlo,'DejaVu Sans Mono',consolas,'Courier New',monospace\">InnovateHub stands out from competitors by offering a unique combination of AI-driven insights, real-time \n",
       "collaboration tools, and customizable ideation templates. Additionally, it provides seamless integration with \n",
       "popular productivity tools <span style=\"font-weight: bold\">(</span>e.g., Slack, Trello, Microsoft Teams<span style=\"font-weight: bold\">)</span> and prioritizes user experience with an intuitive\n",
       "interface.\n",
       "</pre>\n"
      ],
      "text/plain": [
       "InnovateHub stands out from competitors by offering a unique combination of AI-driven insights, real-time \n",
       "collaboration tools, and customizable ideation templates. Additionally, it provides seamless integration with \n",
       "popular productivity tools \u001b[1m(\u001b[0me.g., Slack, Trello, Microsoft Teams\u001b[1m)\u001b[0m and prioritizes user experience with an intuitive\n",
       "interface.\n"
      ]
     },
     "metadata": {},
     "output_type": "display_data"
    },
    {
     "data": {
      "text/html": [
       "<pre style=\"white-space:pre;overflow-x:auto;line-height:normal;font-family:Menlo,'DejaVu Sans Mono',consolas,'Courier New',monospace\">- Do offer a user-friendly and intuitive interface.\n",
       "- Do provide AI-driven insights to enhance the ideation process.\n",
       "- Do offer customizable templates to suit different industries.\n",
       "- Do integrate with popular productivity tools.\n",
       "- Do provide excellent customer support and regular updates.\n",
       "</pre>\n"
      ],
      "text/plain": [
       "- Do offer a user-friendly and intuitive interface.\n",
       "- Do provide AI-driven insights to enhance the ideation process.\n",
       "- Do offer customizable templates to suit different industries.\n",
       "- Do integrate with popular productivity tools.\n",
       "- Do provide excellent customer support and regular updates.\n"
      ]
     },
     "metadata": {},
     "output_type": "display_data"
    },
    {
     "data": {
      "text/html": [
       "<pre style=\"white-space:pre;overflow-x:auto;line-height:normal;font-family:Menlo,'DejaVu Sans Mono',consolas,'Courier New',monospace\">- Don't overload the platform with unnecessary features.\n",
       "- Don't ignore user feedback and requests for improvements.\n",
       "- Don't compromise on data security and user privacy.\n",
       "- Don't neglect the importance of marketing and brand presence.\n",
       "- Don't underestimate the value of offering free trials and demos.\n",
       "</pre>\n"
      ],
      "text/plain": [
       "- Don't overload the platform with unnecessary features.\n",
       "- Don't ignore user feedback and requests for improvements.\n",
       "- Don't compromise on data security and user privacy.\n",
       "- Don't neglect the importance of marketing and brand presence.\n",
       "- Don't underestimate the value of offering free trials and demos.\n"
      ]
     },
     "metadata": {},
     "output_type": "display_data"
    },
    {
     "data": {
      "text/html": [
       "<pre style=\"white-space:pre;overflow-x:auto;line-height:normal;font-family:Menlo,'DejaVu Sans Mono',consolas,'Courier New',monospace\">#### Milestone Plan\n",
       "\n",
       "<span style=\"color: #008080; text-decoration-color: #008080; font-weight: bold\">1</span>. **Project Initiation**\n",
       "   - Define project scope and objectives\n",
       "   - Identify stakeholders\n",
       "   - Develop project charter\n",
       "   - Timeline: Month <span style=\"color: #008080; text-decoration-color: #008080; font-weight: bold\">1</span>\n",
       "\n",
       "<span style=\"color: #008080; text-decoration-color: #008080; font-weight: bold\">2</span>. **Platform Development**\n",
       "   - Design user interface and experience\n",
       "   - Develop core features and functionalities\n",
       "   - Integrate with popular tools like Slack and Trello\n",
       "   - Timeline: Months <span style=\"color: #008080; text-decoration-color: #008080; font-weight: bold\">2</span>-<span style=\"color: #008080; text-decoration-color: #008080; font-weight: bold\">5</span>\n",
       "\n",
       "<span style=\"color: #008080; text-decoration-color: #008080; font-weight: bold\">3</span>. **Beta Testing**\n",
       "   - Conduct internal testing\n",
       "   - Invite beta users and gather feedback\n",
       "   - Refine platform based on feedback\n",
       "   - Timeline: Months <span style=\"color: #008080; text-decoration-color: #008080; font-weight: bold\">6</span>-<span style=\"color: #008080; text-decoration-color: #008080; font-weight: bold\">7</span>\n",
       "\n",
       "<span style=\"color: #008080; text-decoration-color: #008080; font-weight: bold\">4</span>. **Marketing Launch**\n",
       "   - Implement social media campaigns\n",
       "   - Launch content marketing initiatives\n",
       "   - Partner with innovation consultants\n",
       "   - Timeline: Month <span style=\"color: #008080; text-decoration-color: #008080; font-weight: bold\">8</span>\n",
       "\n",
       "<span style=\"color: #008080; text-decoration-color: #008080; font-weight: bold\">5</span>. **Official Launch**\n",
       "   - Release Free, Pro, and Enterprise tiers\n",
       "   - Offer free webinars and trials\n",
       "   - Leverage success stories and testimonials\n",
       "   - Timeline: Month <span style=\"color: #008080; text-decoration-color: #008080; font-weight: bold\">9</span>\n",
       "\n",
       "<span style=\"color: #008080; text-decoration-color: #008080; font-weight: bold\">6</span>. **Post-Launch Support and Maintenance**\n",
       "   - Provide robust customer support\n",
       "   - Gather continuous user feedback\n",
       "   - Regular updates and maintenance\n",
       "   - Ongoing\n",
       "</pre>\n"
      ],
      "text/plain": [
       "#### Milestone Plan\n",
       "\n",
       "\u001b[1;36m1\u001b[0m. **Project Initiation**\n",
       "   - Define project scope and objectives\n",
       "   - Identify stakeholders\n",
       "   - Develop project charter\n",
       "   - Timeline: Month \u001b[1;36m1\u001b[0m\n",
       "\n",
       "\u001b[1;36m2\u001b[0m. **Platform Development**\n",
       "   - Design user interface and experience\n",
       "   - Develop core features and functionalities\n",
       "   - Integrate with popular tools like Slack and Trello\n",
       "   - Timeline: Months \u001b[1;36m2\u001b[0m-\u001b[1;36m5\u001b[0m\n",
       "\n",
       "\u001b[1;36m3\u001b[0m. **Beta Testing**\n",
       "   - Conduct internal testing\n",
       "   - Invite beta users and gather feedback\n",
       "   - Refine platform based on feedback\n",
       "   - Timeline: Months \u001b[1;36m6\u001b[0m-\u001b[1;36m7\u001b[0m\n",
       "\n",
       "\u001b[1;36m4\u001b[0m. **Marketing Launch**\n",
       "   - Implement social media campaigns\n",
       "   - Launch content marketing initiatives\n",
       "   - Partner with innovation consultants\n",
       "   - Timeline: Month \u001b[1;36m8\u001b[0m\n",
       "\n",
       "\u001b[1;36m5\u001b[0m. **Official Launch**\n",
       "   - Release Free, Pro, and Enterprise tiers\n",
       "   - Offer free webinars and trials\n",
       "   - Leverage success stories and testimonials\n",
       "   - Timeline: Month \u001b[1;36m9\u001b[0m\n",
       "\n",
       "\u001b[1;36m6\u001b[0m. **Post-Launch Support and Maintenance**\n",
       "   - Provide robust customer support\n",
       "   - Gather continuous user feedback\n",
       "   - Regular updates and maintenance\n",
       "   - Ongoing\n"
      ]
     },
     "metadata": {},
     "output_type": "display_data"
    },
    {
     "data": {
      "text/html": [
       "<pre style=\"white-space:pre;overflow-x:auto;line-height:normal;font-family:Menlo,'DejaVu Sans Mono',consolas,'Courier New',monospace\">#### Gant Chart\n",
       "\n",
       "| Task                        | Start Date  | End Date    | Duration | Responsible  |\n",
       "|-----------------------------|-------------|-------------|----------|--------------|\n",
       "| Project Initiation          | <span style=\"color: #008080; text-decoration-color: #008080; font-weight: bold\">2023</span>-<span style=\"color: #008080; text-decoration-color: #008080; font-weight: bold\">01</span>-<span style=\"color: #008080; text-decoration-color: #008080; font-weight: bold\">01</span>  | <span style=\"color: #008080; text-decoration-color: #008080; font-weight: bold\">2023</span>-<span style=\"color: #008080; text-decoration-color: #008080; font-weight: bold\">01</span>-<span style=\"color: #008080; text-decoration-color: #008080; font-weight: bold\">31</span>  | <span style=\"color: #008080; text-decoration-color: #008080; font-weight: bold\">1</span> month  | Project Lead |\n",
       "| Platform Development        | <span style=\"color: #008080; text-decoration-color: #008080; font-weight: bold\">2023</span>-<span style=\"color: #008080; text-decoration-color: #008080; font-weight: bold\">02</span>-<span style=\"color: #008080; text-decoration-color: #008080; font-weight: bold\">01</span>  | <span style=\"color: #008080; text-decoration-color: #008080; font-weight: bold\">2023</span>-<span style=\"color: #008080; text-decoration-color: #008080; font-weight: bold\">05</span>-<span style=\"color: #008080; text-decoration-color: #008080; font-weight: bold\">31</span>  | <span style=\"color: #008080; text-decoration-color: #008080; font-weight: bold\">4</span> months | Dev Team     |\n",
       "| Beta Testing                | <span style=\"color: #008080; text-decoration-color: #008080; font-weight: bold\">2023</span>-<span style=\"color: #008080; text-decoration-color: #008080; font-weight: bold\">06</span>-<span style=\"color: #008080; text-decoration-color: #008080; font-weight: bold\">01</span>  | <span style=\"color: #008080; text-decoration-color: #008080; font-weight: bold\">2023</span>-<span style=\"color: #008080; text-decoration-color: #008080; font-weight: bold\">07</span>-<span style=\"color: #008080; text-decoration-color: #008080; font-weight: bold\">31</span>  | <span style=\"color: #008080; text-decoration-color: #008080; font-weight: bold\">2</span> months | QA Team      |\n",
       "| Marketing Launch            | <span style=\"color: #008080; text-decoration-color: #008080; font-weight: bold\">2023</span>-<span style=\"color: #008080; text-decoration-color: #008080; font-weight: bold\">08</span>-<span style=\"color: #008080; text-decoration-color: #008080; font-weight: bold\">01</span>  | <span style=\"color: #008080; text-decoration-color: #008080; font-weight: bold\">2023</span>-<span style=\"color: #008080; text-decoration-color: #008080; font-weight: bold\">08</span>-<span style=\"color: #008080; text-decoration-color: #008080; font-weight: bold\">31</span>  | <span style=\"color: #008080; text-decoration-color: #008080; font-weight: bold\">1</span> month  | Marketing    |\n",
       "| Official Launch             | <span style=\"color: #008080; text-decoration-color: #008080; font-weight: bold\">2023</span>-<span style=\"color: #008080; text-decoration-color: #008080; font-weight: bold\">09</span>-<span style=\"color: #008080; text-decoration-color: #008080; font-weight: bold\">01</span>  | <span style=\"color: #008080; text-decoration-color: #008080; font-weight: bold\">2023</span>-<span style=\"color: #008080; text-decoration-color: #008080; font-weight: bold\">09</span>-<span style=\"color: #008080; text-decoration-color: #008080; font-weight: bold\">30</span>  | <span style=\"color: #008080; text-decoration-color: #008080; font-weight: bold\">1</span> month  | All Teams    |\n",
       "| Post-Launch Support &amp; Maintenance | <span style=\"color: #008080; text-decoration-color: #008080; font-weight: bold\">2023</span>-<span style=\"color: #008080; text-decoration-color: #008080; font-weight: bold\">10</span>-<span style=\"color: #008080; text-decoration-color: #008080; font-weight: bold\">01</span> | Ongoing | Ongoing  | Support Team |\n",
       "</pre>\n"
      ],
      "text/plain": [
       "#### Gant Chart\n",
       "\n",
       "| Task                        | Start Date  | End Date    | Duration | Responsible  |\n",
       "|-----------------------------|-------------|-------------|----------|--------------|\n",
       "| Project Initiation          | \u001b[1;36m2023\u001b[0m-\u001b[1;36m01\u001b[0m-\u001b[1;36m01\u001b[0m  | \u001b[1;36m2023\u001b[0m-\u001b[1;36m01\u001b[0m-\u001b[1;36m31\u001b[0m  | \u001b[1;36m1\u001b[0m month  | Project Lead |\n",
       "| Platform Development        | \u001b[1;36m2023\u001b[0m-\u001b[1;36m02\u001b[0m-\u001b[1;36m01\u001b[0m  | \u001b[1;36m2023\u001b[0m-\u001b[1;36m05\u001b[0m-\u001b[1;36m31\u001b[0m  | \u001b[1;36m4\u001b[0m months | Dev Team     |\n",
       "| Beta Testing                | \u001b[1;36m2023\u001b[0m-\u001b[1;36m06\u001b[0m-\u001b[1;36m01\u001b[0m  | \u001b[1;36m2023\u001b[0m-\u001b[1;36m07\u001b[0m-\u001b[1;36m31\u001b[0m  | \u001b[1;36m2\u001b[0m months | QA Team      |\n",
       "| Marketing Launch            | \u001b[1;36m2023\u001b[0m-\u001b[1;36m08\u001b[0m-\u001b[1;36m01\u001b[0m  | \u001b[1;36m2023\u001b[0m-\u001b[1;36m08\u001b[0m-\u001b[1;36m31\u001b[0m  | \u001b[1;36m1\u001b[0m month  | Marketing    |\n",
       "| Official Launch             | \u001b[1;36m2023\u001b[0m-\u001b[1;36m09\u001b[0m-\u001b[1;36m01\u001b[0m  | \u001b[1;36m2023\u001b[0m-\u001b[1;36m09\u001b[0m-\u001b[1;36m30\u001b[0m  | \u001b[1;36m1\u001b[0m month  | All Teams    |\n",
       "| Post-Launch Support & Maintenance | \u001b[1;36m2023\u001b[0m-\u001b[1;36m10\u001b[0m-\u001b[1;36m01\u001b[0m | Ongoing | Ongoing  | Support Team |\n"
      ]
     },
     "metadata": {},
     "output_type": "display_data"
    },
    {
     "data": {
      "text/html": [
       "<pre style=\"white-space:pre;overflow-x:auto;line-height:normal;font-family:Menlo,'DejaVu Sans Mono',consolas,'Courier New',monospace\">#### Raid Chart\n",
       "\n",
       "| Risk                       | Impact       | Mitigation Strategy                            |\n",
       "|----------------------------|--------------|-----------------------------------------------|\n",
       "| Delayed Development        | High         | Allocate buffer time and prioritize features   |\n",
       "| User Adoption Challenges   | Medium       | Offer free trials and strong marketing efforts |\n",
       "| Data Security Issues       | High         | Implement robust security protocols            |\n",
       "| Integration Failures       | Medium       | Conduct thorough testing before launch         |\n",
       "\n",
       "| Assumption                 | Impact       | Validation Strategy                            |\n",
       "|----------------------------|--------------|-----------------------------------------------|\n",
       "| High demand for innovation platform | High | Market research and surveys                    |\n",
       "| Integration will be seamless         | Medium | Beta testing with diverse user groups         |\n",
       "\n",
       "| Issue                      | Impact       | Resolution Strategy                            |\n",
       "|----------------------------|--------------|-----------------------------------------------|\n",
       "| Bug reports from beta users           | High | Prompt bug fixing and updates                 |\n",
       "\n",
       "| Dependency                 | Impact       | Management Strategy                            |\n",
       "|----------------------------|--------------|-----------------------------------------------|\n",
       "| Integration with third-party tools    | High | Close coordination with tool providers        |\n",
       "</pre>\n"
      ],
      "text/plain": [
       "#### Raid Chart\n",
       "\n",
       "| Risk                       | Impact       | Mitigation Strategy                            |\n",
       "|----------------------------|--------------|-----------------------------------------------|\n",
       "| Delayed Development        | High         | Allocate buffer time and prioritize features   |\n",
       "| User Adoption Challenges   | Medium       | Offer free trials and strong marketing efforts |\n",
       "| Data Security Issues       | High         | Implement robust security protocols            |\n",
       "| Integration Failures       | Medium       | Conduct thorough testing before launch         |\n",
       "\n",
       "| Assumption                 | Impact       | Validation Strategy                            |\n",
       "|----------------------------|--------------|-----------------------------------------------|\n",
       "| High demand for innovation platform | High | Market research and surveys                    |\n",
       "| Integration will be seamless         | Medium | Beta testing with diverse user groups         |\n",
       "\n",
       "| Issue                      | Impact       | Resolution Strategy                            |\n",
       "|----------------------------|--------------|-----------------------------------------------|\n",
       "| Bug reports from beta users           | High | Prompt bug fixing and updates                 |\n",
       "\n",
       "| Dependency                 | Impact       | Management Strategy                            |\n",
       "|----------------------------|--------------|-----------------------------------------------|\n",
       "| Integration with third-party tools    | High | Close coordination with tool providers        |\n"
      ]
     },
     "metadata": {},
     "output_type": "display_data"
    },
    {
     "data": {
      "text/html": [
       "<pre style=\"white-space:pre;overflow-x:auto;line-height:normal;font-family:Menlo,'DejaVu Sans Mono',consolas,'Courier New',monospace\">#### Task Table\n",
       "\n",
       "| Task                                   | Description                                           | Due Date    | \n",
       "Assignee     |\n",
       "|----------------------------------------|-------------------------------------------------------|-------------|---\n",
       "-----------|\n",
       "| Define project scope and objectives    | Outline the goals and deliverables for InnovateCo     | <span style=\"color: #008080; text-decoration-color: #008080; font-weight: bold\">2023</span>-<span style=\"color: #008080; text-decoration-color: #008080; font-weight: bold\">01</span>-<span style=\"color: #008080; text-decoration-color: #008080; font-weight: bold\">07</span>  | \n",
       "Project Lead |\n",
       "| Design user interface and experience   | Create wireframes and design the platform UI/UX       | <span style=\"color: #008080; text-decoration-color: #008080; font-weight: bold\">2023</span>-<span style=\"color: #008080; text-decoration-color: #008080; font-weight: bold\">02</span>-<span style=\"color: #008080; text-decoration-color: #008080; font-weight: bold\">28</span>  | \n",
       "Design Team  |\n",
       "| Develop core features                  | Implement main functionalities like brainstorming tools| <span style=\"color: #008080; text-decoration-color: #008080; font-weight: bold\">2023</span>-<span style=\"color: #008080; text-decoration-color: #008080; font-weight: bold\">04</span>-<span style=\"color: #008080; text-decoration-color: #008080; font-weight: bold\">30</span>  | \n",
       "Dev Team     |\n",
       "| Integrate with Slack and Trello        | Ensure seamless integration with popular tools        | <span style=\"color: #008080; text-decoration-color: #008080; font-weight: bold\">2023</span>-<span style=\"color: #008080; text-decoration-color: #008080; font-weight: bold\">05</span>-<span style=\"color: #008080; text-decoration-color: #008080; font-weight: bold\">31</span>  | \n",
       "Dev Team     |\n",
       "| Conduct internal testing               | Test the platform internally to identify any issues   | <span style=\"color: #008080; text-decoration-color: #008080; font-weight: bold\">2023</span>-<span style=\"color: #008080; text-decoration-color: #008080; font-weight: bold\">06</span>-<span style=\"color: #008080; text-decoration-color: #008080; font-weight: bold\">15</span>  | QA\n",
       "Team      |\n",
       "| Gather feedback from beta users        | Collect and analyze feedback from beta testing phase  | <span style=\"color: #008080; text-decoration-color: #008080; font-weight: bold\">2023</span>-<span style=\"color: #008080; text-decoration-color: #008080; font-weight: bold\">07</span>-<span style=\"color: #008080; text-decoration-color: #008080; font-weight: bold\">31</span>  | QA\n",
       "Team      |\n",
       "| Launch marketing campaigns             | Start social media and content marketing campaigns    | <span style=\"color: #008080; text-decoration-color: #008080; font-weight: bold\">2023</span>-<span style=\"color: #008080; text-decoration-color: #008080; font-weight: bold\">08</span>-<span style=\"color: #008080; text-decoration-color: #008080; font-weight: bold\">01</span>  | \n",
       "Marketing    |\n",
       "| Release Free, Pro, and Enterprise tiers| Make different pricing tiers available to users       | <span style=\"color: #008080; text-decoration-color: #008080; font-weight: bold\">2023</span>-<span style=\"color: #008080; text-decoration-color: #008080; font-weight: bold\">09</span>-<span style=\"color: #008080; text-decoration-color: #008080; font-weight: bold\">01</span>  | \n",
       "Sales        |\n",
       "| Provide customer support               | Set up support channels and address user issues       | <span style=\"color: #008080; text-decoration-color: #008080; font-weight: bold\">2023</span>-<span style=\"color: #008080; text-decoration-color: #008080; font-weight: bold\">10</span>-<span style=\"color: #008080; text-decoration-color: #008080; font-weight: bold\">01</span>  | \n",
       "Support Team |\n",
       "| Gather user feedback                   | Continuously collect user feedback for improvements   | Ongoing     | \n",
       "All Teams    |\n",
       "</pre>\n"
      ],
      "text/plain": [
       "#### Task Table\n",
       "\n",
       "| Task                                   | Description                                           | Due Date    | \n",
       "Assignee     |\n",
       "|----------------------------------------|-------------------------------------------------------|-------------|---\n",
       "-----------|\n",
       "| Define project scope and objectives    | Outline the goals and deliverables for InnovateCo     | \u001b[1;36m2023\u001b[0m-\u001b[1;36m01\u001b[0m-\u001b[1;36m07\u001b[0m  | \n",
       "Project Lead |\n",
       "| Design user interface and experience   | Create wireframes and design the platform UI/UX       | \u001b[1;36m2023\u001b[0m-\u001b[1;36m02\u001b[0m-\u001b[1;36m28\u001b[0m  | \n",
       "Design Team  |\n",
       "| Develop core features                  | Implement main functionalities like brainstorming tools| \u001b[1;36m2023\u001b[0m-\u001b[1;36m04\u001b[0m-\u001b[1;36m30\u001b[0m  | \n",
       "Dev Team     |\n",
       "| Integrate with Slack and Trello        | Ensure seamless integration with popular tools        | \u001b[1;36m2023\u001b[0m-\u001b[1;36m05\u001b[0m-\u001b[1;36m31\u001b[0m  | \n",
       "Dev Team     |\n",
       "| Conduct internal testing               | Test the platform internally to identify any issues   | \u001b[1;36m2023\u001b[0m-\u001b[1;36m06\u001b[0m-\u001b[1;36m15\u001b[0m  | QA\n",
       "Team      |\n",
       "| Gather feedback from beta users        | Collect and analyze feedback from beta testing phase  | \u001b[1;36m2023\u001b[0m-\u001b[1;36m07\u001b[0m-\u001b[1;36m31\u001b[0m  | QA\n",
       "Team      |\n",
       "| Launch marketing campaigns             | Start social media and content marketing campaigns    | \u001b[1;36m2023\u001b[0m-\u001b[1;36m08\u001b[0m-\u001b[1;36m01\u001b[0m  | \n",
       "Marketing    |\n",
       "| Release Free, Pro, and Enterprise tiers| Make different pricing tiers available to users       | \u001b[1;36m2023\u001b[0m-\u001b[1;36m09\u001b[0m-\u001b[1;36m01\u001b[0m  | \n",
       "Sales        |\n",
       "| Provide customer support               | Set up support channels and address user issues       | \u001b[1;36m2023\u001b[0m-\u001b[1;36m10\u001b[0m-\u001b[1;36m01\u001b[0m  | \n",
       "Support Team |\n",
       "| Gather user feedback                   | Continuously collect user feedback for improvements   | Ongoing     | \n",
       "All Teams    |\n"
      ]
     },
     "metadata": {},
     "output_type": "display_data"
    }
   ],
   "source": [
    "from rich import print\n",
    "print(test['markdown']['headline'])\n",
    "print(test['markdown']['description'])\n",
    "print(test['markdown']['target_audience'])\n",
    "print(test['markdown']['pricing'])\n",
    "print(test['markdown']['marketing'])\n",
    "print(test['markdown']['stand_out'])\n",
    "print(test['markdown']['dos'])\n",
    "print(test['markdown']['donts'])\n",
    "\n",
    "print(test['plans']['milestone_plan'])\n",
    "print(test['plans']['gant_chart'])\n",
    "print(test['plans']['raid_chart'])\n",
    "print(test['plans']['task_table'])"
   ]
  },
  {
   "cell_type": "code",
   "execution_count": null,
   "metadata": {},
   "outputs": [],
   "source": [
    "from rich import print\n",
    "print(test['markdown']['headline'])\n",
    "print(test['markdown']['description'])\n",
    "print(test['markdown']['target_audience'])\n",
    "print(test['markdown']['pricing'])\n",
    "print(test['markdown']['marketing'])\n",
    "print(test['markdown']['stand_out'])\n",
    "print(test['markdown']['dos'])\n",
    "print(test['markdown']['donts'])\n",
    "\n",
    "print(test['plans']['milestone_plan'])\n",
    "print(test['plans']['gant_chart'])\n",
    "print(test['plans']['raid_chart'])\n",
    "print(test['plans']['task_table'])"
   ]
  },
  {
   "cell_type": "code",
   "execution_count": 28,
   "metadata": {},
   "outputs": [
    {
     "data": {
      "text/html": [
       "<pre style=\"white-space:pre;overflow-x:auto;line-height:normal;font-family:Menlo,'DejaVu Sans Mono',consolas,'Courier New',monospace\">                                                    <span style=\"color: #7f7f7f; text-decoration-color: #7f7f7f; font-weight: bold\">Task Table</span>                                                     \n",
       "\n",
       "                                                                                                                   \n",
       " <span style=\"font-weight: bold\"> Task                                    </span> <span style=\"font-weight: bold\"> Description                               </span> <span style=\"font-weight: bold\"> Due Date   </span> <span style=\"font-weight: bold\"> Assignee     </span> \n",
       " ━━━━━━━━━━━━━━━━━━━━━━━━━━━━━━━━━━━━━━━━━━━━━━━━━━━━━━━━━━━━━━━━━━━━━━━━━━━━━━━━━━━━━━━━━━━━━━━━━━━━━━━━━━━━━━━━━ \n",
       "  Define project scope and objectives       Outline the goals and deliverables for      2023-01-07   Project Lead  \n",
       "                                            InnovateCo                                                             \n",
       "  Design user interface and experience      Create wireframes and design the platform   2023-02-28   Design Team   \n",
       "                                            UI/UX                                                                  \n",
       "  Develop core features                     Implement main functionalities like         2023-04-30   Dev Team      \n",
       "                                            brainstorming tools                                                    \n",
       "  Integrate with Slack and Trello           Ensure seamless integration with popular    2023-05-31   Dev Team      \n",
       "                                            tools                                                                  \n",
       "  Conduct internal testing                  Test the platform internally to identify    2023-06-15   QA Team       \n",
       "                                            any issues                                                             \n",
       "  Gather feedback from beta users           Collect and analyze feedback from beta      2023-07-31   QA Team       \n",
       "                                            testing phase                                                          \n",
       "  Launch marketing campaigns                Start social media and content marketing    2023-08-01   Marketing     \n",
       "                                            campaigns                                                              \n",
       "  Release Free, Pro, and Enterprise tiers   Make different pricing tiers available to   2023-09-01   Sales         \n",
       "                                            users                                                                  \n",
       "  Provide customer support                  Set up support channels and address user    2023-10-01   Support Team  \n",
       "                                            issues                                                                 \n",
       "  Gather user feedback                      Continuously collect user feedback for      Ongoing      All Teams     \n",
       "                                            improvements                                                           \n",
       "                                                                                                                   \n",
       "</pre>\n"
      ],
      "text/plain": [
       "                                                    \u001b[1;2mTask Table\u001b[0m                                                     \n",
       "\n",
       "                                                                                                                   \n",
       " \u001b[1m \u001b[0m\u001b[1mTask\u001b[0m\u001b[1m                                   \u001b[0m\u001b[1m \u001b[0m \u001b[1m \u001b[0m\u001b[1mDescription\u001b[0m\u001b[1m                              \u001b[0m\u001b[1m \u001b[0m \u001b[1m \u001b[0m\u001b[1mDue Date\u001b[0m\u001b[1m  \u001b[0m\u001b[1m \u001b[0m \u001b[1m \u001b[0m\u001b[1mAssignee\u001b[0m\u001b[1m    \u001b[0m\u001b[1m \u001b[0m \n",
       " ━━━━━━━━━━━━━━━━━━━━━━━━━━━━━━━━━━━━━━━━━━━━━━━━━━━━━━━━━━━━━━━━━━━━━━━━━━━━━━━━━━━━━━━━━━━━━━━━━━━━━━━━━━━━━━━━━ \n",
       "  Define project scope and objectives       Outline the goals and deliverables for      2023-01-07   Project Lead  \n",
       "                                            InnovateCo                                                             \n",
       "  Design user interface and experience      Create wireframes and design the platform   2023-02-28   Design Team   \n",
       "                                            UI/UX                                                                  \n",
       "  Develop core features                     Implement main functionalities like         2023-04-30   Dev Team      \n",
       "                                            brainstorming tools                                                    \n",
       "  Integrate with Slack and Trello           Ensure seamless integration with popular    2023-05-31   Dev Team      \n",
       "                                            tools                                                                  \n",
       "  Conduct internal testing                  Test the platform internally to identify    2023-06-15   QA Team       \n",
       "                                            any issues                                                             \n",
       "  Gather feedback from beta users           Collect and analyze feedback from beta      2023-07-31   QA Team       \n",
       "                                            testing phase                                                          \n",
       "  Launch marketing campaigns                Start social media and content marketing    2023-08-01   Marketing     \n",
       "                                            campaigns                                                              \n",
       "  Release Free, Pro, and Enterprise tiers   Make different pricing tiers available to   2023-09-01   Sales         \n",
       "                                            users                                                                  \n",
       "  Provide customer support                  Set up support channels and address user    2023-10-01   Support Team  \n",
       "                                            issues                                                                 \n",
       "  Gather user feedback                      Continuously collect user feedback for      Ongoing      All Teams     \n",
       "                                            improvements                                                           \n",
       "                                                                                                                   \n"
      ]
     },
     "metadata": {},
     "output_type": "display_data"
    }
   ],
   "source": [
    "gpt_md = Markdown(test['plans']['task_table'])\n",
    "console.print(gpt_md)"
   ]
  },
  {
   "cell_type": "code",
   "execution_count": null,
   "metadata": {},
   "outputs": [],
   "source": []
  }
 ],
 "metadata": {
  "kernelspec": {
   "display_name": ".venv",
   "language": "python",
   "name": "python3"
  },
  "language_info": {
   "codemirror_mode": {
    "name": "ipython",
    "version": 3
   },
   "file_extension": ".py",
   "mimetype": "text/x-python",
   "name": "python",
   "nbconvert_exporter": "python",
   "pygments_lexer": "ipython3",
   "version": "3.10.10"
  }
 },
 "nbformat": 4,
 "nbformat_minor": 2
}
